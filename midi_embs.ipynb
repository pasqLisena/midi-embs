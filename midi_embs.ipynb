{
 "cells": [
  {
   "cell_type": "code",
   "execution_count": 1,
   "metadata": {},
   "outputs": [],
   "source": [
    "import numpy as np\n",
    "import codecs\n",
    "import os\n",
    "import pandas\n",
    "from gensim.models import KeyedVectors\n",
    "import re\n",
    "\n",
    "import matplotlib.pyplot as plt\n",
    "from sklearn.manifold import TSNE\n",
    "import doremus_data\n",
    "from random import randint"
   ]
  },
  {
   "cell_type": "code",
   "execution_count": 2,
   "metadata": {},
   "outputs": [],
   "source": [
    "# input\n",
    "IN_PATH = 'embeddings/midi.emb'\n",
    "DOREMUS_PATH = '/Users/pasquale/git/music-embeddings/'\n",
    "\n",
    "# output\n",
    "IMG_PATH = './img'\n",
    "DATASET_PATH = './dataset'\n",
    "\n",
    "doremus_data.init(None, DOREMUS_PATH)"
   ]
  },
  {
   "cell_type": "code",
   "execution_count": 3,
   "metadata": {},
   "outputs": [
    {
     "data": {
      "text/html": [
       "<div>\n",
       "<style scoped>\n",
       "    .dataframe tbody tr th:only-of-type {\n",
       "        vertical-align: middle;\n",
       "    }\n",
       "\n",
       "    .dataframe tbody tr th {\n",
       "        vertical-align: top;\n",
       "    }\n",
       "\n",
       "    .dataframe thead th {\n",
       "        text-align: right;\n",
       "    }\n",
       "</style>\n",
       "<table border=\"1\" class=\"dataframe\">\n",
       "  <thead>\n",
       "    <tr style=\"text-align: right;\">\n",
       "      <th></th>\n",
       "      <th>midi</th>\n",
       "      <th>mvt</th>\n",
       "      <th>doremus</th>\n",
       "    </tr>\n",
       "  </thead>\n",
       "  <tbody>\n",
       "    <tr>\n",
       "      <th>0</th>\n",
       "      <td>http://purl.org/midi-ld/pattern/cbac9e6462f740...</td>\n",
       "      <td>1.  Coro</td>\n",
       "      <td>http://data.doremus.org/expression/23d9eec8-62...</td>\n",
       "    </tr>\n",
       "    <tr>\n",
       "      <th>1</th>\n",
       "      <td>http://purl.org/midi-ld/pattern/c089cc3b07e124...</td>\n",
       "      <td>2.  Recitativo</td>\n",
       "      <td>http://data.doremus.org/expression/23d9eec8-62...</td>\n",
       "    </tr>\n",
       "    <tr>\n",
       "      <th>2</th>\n",
       "      <td>http://purl.org/midi-ld/pattern/8eef41ee2e10dd...</td>\n",
       "      <td>3.  Aria</td>\n",
       "      <td>http://data.doremus.org/expression/23d9eec8-62...</td>\n",
       "    </tr>\n",
       "    <tr>\n",
       "      <th>3</th>\n",
       "      <td>http://purl.org/midi-ld/pattern/f968ebb5dc02c6...</td>\n",
       "      <td>4.  Recitativo</td>\n",
       "      <td>http://data.doremus.org/expression/23d9eec8-62...</td>\n",
       "    </tr>\n",
       "    <tr>\n",
       "      <th>4</th>\n",
       "      <td>http://purl.org/midi-ld/pattern/b54056670ff161...</td>\n",
       "      <td>6.  Choral</td>\n",
       "      <td>http://data.doremus.org/expression/23d9eec8-62...</td>\n",
       "    </tr>\n",
       "  </tbody>\n",
       "</table>\n",
       "</div>"
      ],
      "text/plain": [
       "                                                midi              mvt  \\\n",
       "0  http://purl.org/midi-ld/pattern/cbac9e6462f740...        1.  Coro    \n",
       "1  http://purl.org/midi-ld/pattern/c089cc3b07e124...  2.  Recitativo    \n",
       "2  http://purl.org/midi-ld/pattern/8eef41ee2e10dd...        3.  Aria    \n",
       "3  http://purl.org/midi-ld/pattern/f968ebb5dc02c6...  4.  Recitativo    \n",
       "4  http://purl.org/midi-ld/pattern/b54056670ff161...      6.  Choral    \n",
       "\n",
       "                                             doremus  \n",
       "0  http://data.doremus.org/expression/23d9eec8-62...  \n",
       "1  http://data.doremus.org/expression/23d9eec8-62...  \n",
       "2  http://data.doremus.org/expression/23d9eec8-62...  \n",
       "3  http://data.doremus.org/expression/23d9eec8-62...  \n",
       "4  http://data.doremus.org/expression/23d9eec8-62...  "
      ]
     },
     "execution_count": 3,
     "metadata": {},
     "output_type": "execute_result"
    }
   ],
   "source": [
    "itl = pandas.read_csv('/Users/pasquale/Desktop/midi-interlink/pieces/musedata-interlink.csv')\n",
    "itl = itl.astype({\"mvt\": str})\n",
    "itl.head()"
   ]
  },
  {
   "cell_type": "code",
   "execution_count": 4,
   "metadata": {},
   "outputs": [
    {
     "data": {
      "text/plain": [
       "438"
      ]
     },
     "execution_count": 4,
     "metadata": {},
     "output_type": "execute_result"
    }
   ],
   "source": [
    "len(itl)"
   ]
  },
  {
   "cell_type": "code",
   "execution_count": 5,
   "metadata": {},
   "outputs": [
    {
     "data": {
      "text/plain": [
       "'http://data.doremus.org/expression/ce2be9cf-17c7-33fa-8e98-93b969795b74'"
      ]
     },
     "execution_count": 5,
     "metadata": {},
     "output_type": "execute_result"
    }
   ],
   "source": [
    "def midi2doremus(midi):\n",
    "    return itl.loc[itl['midi'] == midi]['doremus'].values[0]\n",
    "\n",
    "midi2doremus('http://purl.org/midi-ld/pattern/7a6e0863caf80b1f932bbd8249c9be91')"
   ]
  },
  {
   "cell_type": "code",
   "execution_count": 6,
   "metadata": {},
   "outputs": [
    {
     "data": {
      "text/plain": [
       "{'id': 'http://data.doremus.org/expression/23d9eec8-6240-3852-8d40-a9fd978200b5',\n",
       " 'label': 'Wie schön leuchtet der Morgenstern',\n",
       " 'genre': {'language': 'en', 'value': 'cantata'},\n",
       " 'composer': {'@id': 'http://data.doremus.org/artist/269cec9d-5025-3a8a-b2ef-4f7acb088f2b',\n",
       "  'value': 'Bach'}}"
      ]
     },
     "execution_count": 6,
     "metadata": {},
     "output_type": "execute_result"
    }
   ],
   "source": [
    "from SPARQLTransformer import sparqlTransformer\n",
    "\n",
    "stOpt = {'endpoint': 'http://data.doremus.org/sparql'}\n",
    "def get_metadata(uri):\n",
    "    query = {\n",
    "        'proto':{\n",
    "            'id': '?id',\n",
    "            'label': '$rdfs:label$required$sample',\n",
    "            'genre': '$mus:U12_has_genre/skos:prefLabel$bestlang',\n",
    "            'key': '$mus:U11_has_key/skos:prefLabel$bestlang',\n",
    "            'instrument': {\n",
    "              'id':'$mus:U13_has_casting/mus:U23_has_casting_detail/mus:U2_foresees_use_of_medium_of_performance',\n",
    "              'value':'$skos:prefLabel$bestlang',\n",
    "            },\n",
    "            \"composer\": {\n",
    "             \"@id\": \"?composer\",\n",
    "             \"value\": \"$foaf:surname$required$sample\"\n",
    "            },\n",
    "\n",
    "        },\n",
    "        \"$lang\": \"en\",\n",
    "       \"$where\": [\n",
    "         \"?expCreation efrbroo:R17_created ?id; ecrm:P9_consists_of / ecrm:P14_carried_out_by ?composer\"\n",
    "        ],\n",
    "        '$values': {\n",
    "            'id': uri\n",
    "        }\n",
    "    }\n",
    "    return sparqlTransformer(query,stOpt)[0]\n",
    "\n",
    "example = itl['doremus'].iloc[0]\n",
    "get_metadata(example)"
   ]
  },
  {
   "cell_type": "code",
   "execution_count": 7,
   "metadata": {},
   "outputs": [
    {
     "data": {
      "text/plain": [
       "['http://purl.org/midi-ld/pattern/7a6e0863caf80b1f932bbd8249c9be91',\n",
       " 'http://purl.org/midi-ld/pattern/c60bd4e034f2371253afb1e148e4f521',\n",
       " 'http://purl.org/midi-ld/pattern/223306be2b5c3c630ea9a15a12769ee5',\n",
       " 'http://purl.org/midi-ld/pattern/2b08adbcaead9835cc1c41b535399451',\n",
       " 'http://purl.org/midi-ld/pattern/cf99fafc3ca77b90f638aa79681ab4f2',\n",
       " 'http://purl.org/midi-ld/pattern/51cebf35d767301c8c45a656007c22b7',\n",
       " 'http://purl.org/midi-ld/pattern/c9c7d8c4846344336032256421b87dd7',\n",
       " 'http://purl.org/midi-ld/pattern/d1ea599822900d30f79fc9b8e91957f9',\n",
       " 'http://purl.org/midi-ld/pattern/c4de0fe7f49542a45442035e33cf8b36',\n",
       " 'http://purl.org/midi-ld/pattern/c4f5b070421f16a4ee3ead6beb0d6991']"
      ]
     },
     "execution_count": 7,
     "metadata": {},
     "output_type": "execute_result"
    }
   ],
   "source": [
    "midi_embedding = KeyedVectors.load_word2vec_format(IN_PATH)\n",
    "\n",
    "uris = list(filter(lambda x: x.startswith('http://purl.org/midi-ld/pattern/'), midi_embedding.index2entity))\n",
    "\n",
    "uris[0:10]"
   ]
  },
  {
   "cell_type": "code",
   "execution_count": 8,
   "metadata": {},
   "outputs": [],
   "source": [
    "vectors = [midi_embedding.get_vector(k) for k in uris]\n",
    "entities = [get_metadata(midi2doremus(k)) for k in uris]"
   ]
  },
  {
   "cell_type": "code",
   "execution_count": 9,
   "metadata": {},
   "outputs": [
    {
     "data": {
      "text/plain": [
       "['Mozart', 'Bach', 'Beethoven', 'Haydn']"
      ]
     },
     "execution_count": 9,
     "metadata": {},
     "output_type": "execute_result"
    }
   ],
   "source": [
    "composers = [k['composer']['value'] for k in entities]\n",
    "labels = [k['label']['value'] if 'value' in k['label'] else k['label'] for k in entities]\n",
    "unique_composers = list(set(composers))\n",
    "unique_composers"
   ]
  },
  {
   "cell_type": "code",
   "execution_count": 10,
   "metadata": {},
   "outputs": [],
   "source": [
    "def randcolor():\n",
    "    return '#{:06x}'.format(randint(0, 256**3))"
   ]
  },
  {
   "cell_type": "code",
   "execution_count": 11,
   "metadata": {},
   "outputs": [],
   "source": [
    "tempos = [\n",
    "       'Adagio',\n",
    "       'Allegretto',\n",
    "       'Allegro',\n",
    "       'Andante',\n",
    "       'Largo',\n",
    "       'Presto',\n",
    "       'Vivace']\n",
    "\n",
    "mvt_whitelist = [\n",
    "    'Aria', 'Choral', 'Duetto', 'Finale', 'Fugue', \n",
    "    'Prelude', 'Recitativo', 'Minuetto', 'Rondeau'\n",
    "]\n",
    "\n",
    "def clean_mvt(x):\n",
    "    x = re.sub(r'^\\d+[..]', '', x).strip()\n",
    "    x = re.sub(r'(SECONDA|PRIMA) PARTE:', '', x.strip()).strip()\n",
    "    x = re.sub(r'^\\d+[..]', '', x).strip()\n",
    "\n",
    "    x = re.sub(r'[\\[\\(].+[\\]\\)]', '', x).strip()\n",
    "    x = re.sub(r'\\.$', '', x)\n",
    "    x = re.sub(r' in [A-Za-z-\\/]+ M(aj|in)or', '', x)\n",
    "    x = re.sub(r'Finale ?:', '', x).strip()\n",
    "    x = re.sub(r'Recit$', 'Recitativo', x).strip()\n",
    "    x = re.sub(r' -+ ', '-', x).strip()\n",
    "    x = re.sub(r'--+', '-', x).strip()\n",
    "    x = re.sub(r' I+$', '', x).strip()\n",
    "    x = re.sub(r' \\d$', '', x).strip()\n",
    "\n",
    "    if x == 'n.a':\n",
    "        return '?'\n",
    "    x = x.split(':')[0].strip()\n",
    "    x = x.split('.')[0].strip()\n",
    "    x = x.split('a 2')[0].strip()\n",
    "    \n",
    "    if 'Menuetto' in x or 'Minuetto' in x:\n",
    "        x = 'Minuetto'\n",
    "    if 'Recitativ' in x:\n",
    "        x = 'Recitativo'\n",
    "    if 'Rond' in x:\n",
    "        x = 'Rondeau'\n",
    "\n",
    "    \n",
    "    if '-' in x:\n",
    "        x =  x.split('-')[1]\n",
    "    \n",
    "    if 'Adagio' in x:\n",
    "        x = 'Adagio'\n",
    "    if 'Allegr' in x:\n",
    "        x = 'Allegro'\n",
    "    if 'Vivace' in x:\n",
    "        x = 'Allegro'\n",
    "    if 'Presto' in x:\n",
    "        x = 'Allegro'\n",
    "        \n",
    "    if 'Chor' in x or 'Coro' in x:\n",
    "        x = 'Choral'\n",
    "    \n",
    "    x = re.compile('\\s').split(x.strip())[0]\n",
    "    \n",
    "    return x if x else '?'\n",
    "#     return x if x in mvt_whitelist else '?'\n",
    "\n",
    "\n",
    "def clean_genre(x, label):\n",
    "    x = x.strip()\n",
    "    if x == 'sinfonia':\n",
    "        return 'symphony'\n",
    "    if x in ['other form','?']:\n",
    "        x = ''\n",
    "\n",
    "    if not x :\n",
    "        if 'Sinfonia' in label:\n",
    "            return 'symphony'\n",
    "        if 'Quatuor' in label:\n",
    "            return 'quartet'\n",
    "        if 'Invention' in label:\n",
    "            return 'prelude'\n",
    "\n",
    "    return '?' if not x else x\n",
    "\n",
    "voices = ['alto', 'soprano', 'tenor', 'bariton', 'bass']\n",
    "def clean_instr(x):\n",
    "    if not x: \n",
    "        return '?'\n",
    "    x = x.lower()\n",
    "    \n",
    "    if 'orchestra' in x:\n",
    "        return 'O'\n",
    "    \n",
    "    if 'choir' in x or x in voices:\n",
    "        return 'V'\n",
    "    \n",
    "    if 'piano' in x or x in ['piano', 'keyboard', 'continuo', 'organ']:\n",
    "        return 'P'\n",
    "    \n",
    "    if 'viol' in x or 'cordes' in x  or x in ['double bass', 'cello']:\n",
    "        return 'I'\n",
    "    \n",
    "    return 'I'\n",
    "\n",
    "def clean_instrument(listing):    \n",
    "    listing =  [clean_instr(l) for l in listing]\n",
    "    \n",
    "    if len(listing) > 5:\n",
    "        return ['O'];\n",
    "\n",
    "    listing =  list(np.unique([x for x in listing if x is not None]))\n",
    "    \n",
    "\n",
    "    if 'O' in listing:\n",
    "        if 'I' in listing: \n",
    "            listing.pop(listing.index('I'))\n",
    "            listing.append('S')            \n",
    "        if 'P' in listing: \n",
    "            listing.pop(listing.index('P'))\n",
    "            listing.append('S')            \n",
    "\n",
    "    return listing"
   ]
  },
  {
   "cell_type": "code",
   "execution_count": 12,
   "metadata": {},
   "outputs": [],
   "source": [
    "def extract(what, x):\n",
    "    label = '' if what not in x else x[what]\n",
    "    \n",
    "    if not isinstance(label, list):\n",
    "        label = [label]\n",
    "    \n",
    "    label = list(map(lambda l: l['value'] if 'value' in l else l, label))\n",
    "    label = list(map(lambda l: l['value'] if 'value' in l else l, label))\n",
    "\n",
    "    if what is 'genre':\n",
    "        title = extract('label',x)\n",
    "        label = [clean_genre(l, title) for l in label]\n",
    "    elif what is 'instrument':\n",
    "        label = clean_instrument(label)\n",
    "\n",
    "    if len(label) == 0:\n",
    "        return '?'\n",
    "        \n",
    "    label = list(set(label))\n",
    "    label.sort()\n",
    "    label = '+'.join(label)\n",
    "    return label if label else '?' "
   ]
  },
  {
   "cell_type": "markdown",
   "metadata": {},
   "source": [
    "Clean the data for Tensorflow"
   ]
  },
  {
   "cell_type": "code",
   "execution_count": 13,
   "metadata": {},
   "outputs": [],
   "source": [
    "def vec_to_string(vector):\n",
    "    return ' '.join([str(v) for v in vector])"
   ]
  },
  {
   "cell_type": "code",
   "execution_count": 14,
   "metadata": {},
   "outputs": [],
   "source": [
    "if not os.path.exists(DATASET_PATH):\n",
    "    os.mkdir(DATASET_PATH)\n",
    "\n",
    "with open('%s/uri_midi.txt' % DATASET_PATH, 'w') as f: \n",
    "    f.write('\\n'.join(uris)) \n",
    "\n",
    "with open('%s/uri_doremus.txt' % DATASET_PATH, 'w') as f: \n",
    "    f.write('\\n'.join([midi2doremus(k) for k in uris]))\n",
    "    \n",
    "with open('%s/vectors.txt' % DATASET_PATH, 'w') as f: \n",
    "    f.write('\\n'.join([vec_to_string(vector) for vector in vectors])) \n",
    "\n",
    "with open('%s/composer.txt' % DATASET_PATH, 'w') as f: \n",
    "    f.write('\\n'.join([extract('composer', entity) for entity in entities])) \n",
    "    \n",
    "with open('%s/genre.txt' % DATASET_PATH, 'w') as f: \n",
    "    f.write('\\n'.join([extract('genre', entity) for entity in entities])) \n",
    "\n",
    "with open('%s/key.txt' % DATASET_PATH, 'w') as f: \n",
    "    f.write('\\n'.join([extract('key', entity) for entity in entities]))\n",
    "\n",
    "with open('%s/instrument.txt' % DATASET_PATH, 'w') as f: \n",
    "    f.write('\\n'.join([extract('instrument', entity) for entity in entities])) \n",
    "\n",
    "with open('%s/mvt.txt' % DATASET_PATH, 'w') as f: \n",
    "    mvts = [itl[itl['midi']==u].iloc[0]['mvt'] for u in uris]\n",
    "    f.write('\\n'.join([clean_mvt(m) for m in mvts])) \n",
    "\n",
    "with open('%s/label.txt' % DATASET_PATH, 'w') as f: \n",
    "    f.write('\\n'.join([extract('label', entity) for entity in entities])) "
   ]
  },
  {
   "cell_type": "code",
   "execution_count": 15,
   "metadata": {},
   "outputs": [],
   "source": [
    "colors = ['#D50000', '#304FFE', '#00C853', '#AA00FF']\n",
    "def plot(show=False, what='composer', map_color=False):\n",
    "    # find tsne coords for 2 dimensions\n",
    "    tsne = TSNE(n_components=2, random_state=0)\n",
    "    np.set_printoptions(suppress=True)\n",
    "    Y = tsne.fit_transform(vectors)\n",
    "\n",
    "    x_coords = Y[:, 0]\n",
    "    y_coords = Y[:, 1]\n",
    "\n",
    "    # display scatter plot\n",
    "    plt.scatter(x_coords, y_coords, alpha=0)\n",
    "\n",
    "#     if not show:\n",
    "    plt.rcParams.update({'font.size': 1})\n",
    "\n",
    "    curlabels = list(map(lambda x: extract(what, x), entities))\n",
    "    if what == 'mvt':\n",
    "        curlabels = [itl[itl['midi']==u].iloc[0]['mvt'] for u in uris]\n",
    "        curlabels = [clean_mvt(x) for x in curlabels]\n",
    "    elif what == 'id':\n",
    "        curlabels = [re.sub(r'http:\\/\\/data.doremus.org\\/expression\\/', '', x) for x in curlabels]\n",
    "\n",
    "    \n",
    "    curcomposers = list(map(lambda x: extract('composer', x), entities))\n",
    "    if map_color:\n",
    "        _unique_labels = list(set(curlabels))\n",
    "        _colors = list(map(lambda x: randcolor(), _unique_labels))\n",
    "    else:\n",
    "        _unique_labels = unique_composers\n",
    "        _colors = colors\n",
    "    \n",
    "    for i, value in enumerate(zip(curlabels, curcomposers, uris, x_coords, y_coords)):\n",
    "        label, composer, uri, x, y = value\n",
    "\n",
    "        if label in _unique_labels:\n",
    "            c = _colors[_unique_labels.index(label)]\n",
    "        else:\n",
    "            c = _colors[_unique_labels.index(composer)]\n",
    "\n",
    "        if what != 'composer':\n",
    "            label = curlabels[i]\n",
    "            if map_color:\n",
    "                if what == 'key':\n",
    "                    c = colors[0] if label.lower().endswith('major') else colors[1]\n",
    "                else:\n",
    "                    c = _colors[_unique_labels.index(label)]\n",
    "\n",
    "        plt.text(x, y, label, color=c)\n",
    "    plt.xlim(x_coords.min() + 0.00005, x_coords.max() + 0.00005)\n",
    "    plt.ylim(y_coords.min() + 0.00005, y_coords.max() + 0.00005)\n",
    "\n",
    "    if show:\n",
    "        plt.show()\n",
    "    else:\n",
    "        if not os.path.exists(IMG_PATH):\n",
    "            os.makedirs(IMG_PATH)\n",
    "\n",
    "        out = '%s/%s.eps' % (IMG_PATH, what)\n",
    "        plt.savefig(out, format='eps', dpi=2400)\n",
    "        print('Picture saved at %s' % out)"
   ]
  },
  {
   "cell_type": "code",
   "execution_count": 16,
   "metadata": {},
   "outputs": [
    {
     "name": "stdout",
     "output_type": "stream",
     "text": [
      "Picture saved at ./img/id.eps\n"
     ]
    },
    {
     "data": {
      "image/png": "[encoded data removed]",
      "text/plain": [
       "<Figure size 432x288 with 1 Axes>"
      ]
     },
     "metadata": {
      "needs_background": "light"
     },
     "output_type": "display_data"
    }
   ],
   "source": [
    "plot(what='id')"
   ]
  },
  {
   "cell_type": "code",
   "execution_count": 17,
   "metadata": {},
   "outputs": [
    {
     "name": "stdout",
     "output_type": "stream",
     "text": [
      "Picture saved at ./img/mvt.eps\n"
     ]
    },
    {
     "data": {
      "image/png": "[encoded data removed]",
      "text/plain": [
       "<Figure size 432x288 with 1 Axes>"
      ]
     },
     "metadata": {
      "needs_background": "light"
     },
     "output_type": "display_data"
    }
   ],
   "source": [
    "plot(what='mvt', map_color=True)"
   ]
  },
  {
   "cell_type": "code",
   "execution_count": 18,
   "metadata": {},
   "outputs": [
    {
     "name": "stdout",
     "output_type": "stream",
     "text": [
      "Picture saved at ./img/label.eps\n"
     ]
    },
    {
     "data": {
      "image/png": "[encoded data removed]",
      "text/plain": [
       "<Figure size 432x288 with 1 Axes>"
      ]
     },
     "metadata": {
      "needs_background": "light"
     },
     "output_type": "display_data"
    }
   ],
   "source": [
    "plot(what='label')"
   ]
  },
  {
   "cell_type": "code",
   "execution_count": 19,
   "metadata": {},
   "outputs": [
    {
     "name": "stdout",
     "output_type": "stream",
     "text": [
      "Picture saved at ./img/composer.eps\n"
     ]
    },
    {
     "data": {
      "image/png": "[encoded data removed]",
      "text/plain": [
       "<Figure size 432x288 with 1 Axes>"
      ]
     },
     "metadata": {
      "needs_background": "light"
     },
     "output_type": "display_data"
    }
   ],
   "source": [
    "plot(what='composer')"
   ]
  },
  {
   "cell_type": "code",
   "execution_count": 20,
   "metadata": {},
   "outputs": [
    {
     "name": "stdout",
     "output_type": "stream",
     "text": [
      "Picture saved at ./img/key.eps\n"
     ]
    },
    {
     "data": {
      "image/png": "[encoded data removed]",
      "text/plain": [
       "<Figure size 432x288 with 1 Axes>"
      ]
     },
     "metadata": {
      "needs_background": "light"
     },
     "output_type": "display_data"
    }
   ],
   "source": [
    "plot(what='key',map_color=True)"
   ]
  },
  {
   "cell_type": "code",
   "execution_count": 21,
   "metadata": {},
   "outputs": [
    {
     "name": "stdout",
     "output_type": "stream",
     "text": [
      "Picture saved at ./img/genre.eps\n"
     ]
    },
    {
     "data": {
      "image/png": "[encoded data removed]",
      "text/plain": [
       "<Figure size 432x288 with 1 Axes>"
      ]
     },
     "metadata": {
      "needs_background": "light"
     },
     "output_type": "display_data"
    }
   ],
   "source": [
    "plot(what='genre', map_color=True)"
   ]
  },
  {
   "cell_type": "code",
   "execution_count": 22,
   "metadata": {},
   "outputs": [
    {
     "name": "stdout",
     "output_type": "stream",
     "text": [
      "Picture saved at ./img/instrument.eps\n"
     ]
    },
    {
     "data": {
      "image/png": "[encoded data removed]",
      "text/plain": [
       "<Figure size 432x288 with 1 Axes>"
      ]
     },
     "metadata": {
      "needs_background": "light"
     },
     "output_type": "display_data"
    }
   ],
   "source": [
    "plot(what='instrument', map_color=True)"
   ]
  },
  {
   "cell_type": "code",
   "execution_count": 23,
   "metadata": {},
   "outputs": [
    {
     "data": {
      "text/plain": [
       "(array(['Bach', 'Beethoven', 'Haydn', 'Mozart'], dtype='<U9'),\n",
       " array([332,  10,  31,  65]))"
      ]
     },
     "execution_count": 23,
     "metadata": {},
     "output_type": "execute_result"
    }
   ],
   "source": [
    "comp = [extract('composer', entity) for entity in entities]\n",
    "np.unique(comp, return_counts=True)"
   ]
  },
  {
   "cell_type": "code",
   "execution_count": null,
   "metadata": {},
   "outputs": [],
   "source": []
  }
 ],
 "metadata": {
  "kernelspec": {
   "display_name": "Python 3",
   "language": "python",
   "name": "python3"
  },
  "language_info": {
   "codemirror_mode": {
    "name": "ipython",
    "version": 3
   },
   "file_extension": ".py",
   "mimetype": "text/x-python",
   "name": "python",
   "nbconvert_exporter": "python",
   "pygments_lexer": "ipython3",
   "version": "3.7.4"
  }
 },
 "nbformat": 4,
 "nbformat_minor": 1
}

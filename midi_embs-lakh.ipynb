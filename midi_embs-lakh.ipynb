{
 "cells": [
  {
   "cell_type": "code",
   "execution_count": 1,
   "metadata": {
    "pycharm": {
     "is_executing": false
    }
   },
   "outputs": [],
   "source": [
    "import os\n",
    "import pandas\n",
    "import numpy as np\n",
    "from gensim.models import KeyedVectors"
   ]
  },
  {
   "cell_type": "code",
   "execution_count": 2,
   "metadata": {
    "pycharm": {
     "is_executing": false
    }
   },
   "outputs": [],
   "source": [
    "# input\n",
    "IN_PATH = 'embeddings/lakh.emb'\n",
    "CSV_PATH = 'embeddings/lakh.csv'\n",
    "\n",
    "# output\n",
    "IMG_PATH = './img-lakh'\n",
    "DATASET_PATH = './dataset-lakh'"
   ]
  },
  {
   "cell_type": "code",
   "execution_count": 3,
   "metadata": {
    "pycharm": {
     "is_executing": false
    }
   },
   "outputs": [
    {
     "data": {
      "text/html": [
       "<div>\n",
       "<style scoped>\n",
       "    .dataframe tbody tr th:only-of-type {\n",
       "        vertical-align: middle;\n",
       "    }\n",
       "\n",
       "    .dataframe tbody tr th {\n",
       "        vertical-align: top;\n",
       "    }\n",
       "\n",
       "    .dataframe thead th {\n",
       "        text-align: right;\n",
       "    }\n",
       "</style>\n",
       "<table border=\"1\" class=\"dataframe\">\n",
       "  <thead>\n",
       "    <tr style=\"text-align: right;\">\n",
       "      <th></th>\n",
       "      <th>id</th>\n",
       "      <th>song_name</th>\n",
       "      <th>album_name</th>\n",
       "      <th>artist_name</th>\n",
       "      <th>artist_mb</th>\n",
       "      <th>tag_echo</th>\n",
       "      <th>tag_mbz</th>\n",
       "      <th>year</th>\n",
       "    </tr>\n",
       "  </thead>\n",
       "  <tbody>\n",
       "    <tr>\n",
       "      <th>0</th>\n",
       "      <td>R/R/U/TRRRUFD12903CD7092</td>\n",
       "      <td>Wastelands</td>\n",
       "      <td>Alien 4</td>\n",
       "      <td>Hawkwind</td>\n",
       "      <td>5a28f8c2-31fb-4047-ae57-c5c326989262</td>\n",
       "      <td>space rock</td>\n",
       "      <td>british</td>\n",
       "      <td>1994</td>\n",
       "    </tr>\n",
       "    <tr>\n",
       "      <th>1</th>\n",
       "      <td>R/R/U/TRRRUTV12903CEA11B</td>\n",
       "      <td>Runaway</td>\n",
       "      <td>Songs of Del Shannon</td>\n",
       "      <td>Del Shannon</td>\n",
       "      <td>2e885bfb-1f59-49cf-8d51-e743445e1b48</td>\n",
       "      <td>ballad</td>\n",
       "      <td>classic pop and rock</td>\n",
       "      <td>1961</td>\n",
       "    </tr>\n",
       "    <tr>\n",
       "      <th>2</th>\n",
       "      <td>R/R/U/TRRRUJO128E07813E7</td>\n",
       "      <td>Have You Met Miss Jones? (Swing When Version)</td>\n",
       "      <td>Swing When You're Winning</td>\n",
       "      <td>Robbie Williams</td>\n",
       "      <td>db4624cf-0e44-481e-a9dc-2142b833ec2f</td>\n",
       "      <td>british pop</td>\n",
       "      <td>pop</td>\n",
       "      <td>2001</td>\n",
       "    </tr>\n",
       "    <tr>\n",
       "      <th>3</th>\n",
       "      <td>R/R/I/TRRRIYO128F428CF6F</td>\n",
       "      <td>Goodbye</td>\n",
       "      <td>Bittersweet</td>\n",
       "      <td>Volebeats</td>\n",
       "      <td>eb567c55-368d-4b85-b969-ca9e3252f9cb</td>\n",
       "      <td>alternative country</td>\n",
       "      <td>?</td>\n",
       "      <td>0</td>\n",
       "    </tr>\n",
       "    <tr>\n",
       "      <th>4</th>\n",
       "      <td>R/R/I/TRRRILO128F422FFED</td>\n",
       "      <td>La Colegiala</td>\n",
       "      <td>Musica Tropical De Colombia 5</td>\n",
       "      <td>Rodolfo Y Su Tipica Ra7</td>\n",
       "      <td>ead8d6d9-e58b-4dd8-916f-cf7f359db38e</td>\n",
       "      <td>cumbia</td>\n",
       "      <td>?</td>\n",
       "      <td>1997</td>\n",
       "    </tr>\n",
       "  </tbody>\n",
       "</table>\n",
       "</div>"
      ],
      "text/plain": [
       "                         id                                      song_name  \\\n",
       "0  R/R/U/TRRRUFD12903CD7092                                     Wastelands   \n",
       "1  R/R/U/TRRRUTV12903CEA11B                                        Runaway   \n",
       "2  R/R/U/TRRRUJO128E07813E7  Have You Met Miss Jones? (Swing When Version)   \n",
       "3  R/R/I/TRRRIYO128F428CF6F                                        Goodbye   \n",
       "4  R/R/I/TRRRILO128F422FFED                                   La Colegiala   \n",
       "\n",
       "                      album_name              artist_name  \\\n",
       "0                        Alien 4                 Hawkwind   \n",
       "1           Songs of Del Shannon              Del Shannon   \n",
       "2      Swing When You're Winning          Robbie Williams   \n",
       "3                    Bittersweet                Volebeats   \n",
       "4  Musica Tropical De Colombia 5  Rodolfo Y Su Tipica Ra7   \n",
       "\n",
       "                              artist_mb             tag_echo  \\\n",
       "0  5a28f8c2-31fb-4047-ae57-c5c326989262           space rock   \n",
       "1  2e885bfb-1f59-49cf-8d51-e743445e1b48               ballad   \n",
       "2  db4624cf-0e44-481e-a9dc-2142b833ec2f          british pop   \n",
       "3  eb567c55-368d-4b85-b969-ca9e3252f9cb  alternative country   \n",
       "4  ead8d6d9-e58b-4dd8-916f-cf7f359db38e               cumbia   \n",
       "\n",
       "                tag_mbz  year  \n",
       "0               british  1994  \n",
       "1  classic pop and rock  1961  \n",
       "2                   pop  2001  \n",
       "3                     ?     0  \n",
       "4                     ?  1997  "
      ]
     },
     "execution_count": 3,
     "metadata": {},
     "output_type": "execute_result"
    }
   ],
   "source": [
    "itl = pandas.read_csv(CSV_PATH, index_col=0)\n",
    "itl = itl.replace(np.nan, '?', regex=True)\n",
    "itl.head()"
   ]
  },
  {
   "cell_type": "markdown",
   "metadata": {},
   "source": [
    "We try to merge strings with similar values (e.g. \"hip-hop\" and \"hip hop\") using the Levensthein distance"
   ]
  },
  {
   "cell_type": "code",
   "execution_count": 4,
   "metadata": {
    "pycharm": {
     "is_executing": false
    }
   },
   "outputs": [],
   "source": [
    "def merge_near_string(what, distance=1):\n",
    "    uq = itl[what].unique()\n",
    "\n",
    "    import distance\n",
    "\n",
    "    replace_list = {}\n",
    "\n",
    "    for w1 in uq:\n",
    "        if len(w1) < 5:\n",
    "            continue\n",
    "        if w1 in replace_list:\n",
    "            continue\n",
    "        for w2 in uq:\n",
    "            if len(w2) < 5:\n",
    "                continue\n",
    "            if w1 == w2:\n",
    "                continue\n",
    "            if distance.levenshtein(w1,w2) > 1:\n",
    "                continue\n",
    "            if w2 in replace_list:\n",
    "                continue\n",
    "\n",
    "            replace_list[w2] = w1\n",
    "    \n",
    "    for key, value in replace_list.items():\n",
    "        itl[what] = itl[what].replace(key, value)\n",
    "    return replace_list"
   ]
  },
  {
   "cell_type": "code",
   "execution_count": 5,
   "metadata": {
    "pycharm": {
     "is_executing": false
    }
   },
   "outputs": [
    {
     "data": {
      "text/plain": [
       "{'funk rock': 'punk rock',\n",
       " 'electronica': 'electronic',\n",
       " 'italia': 'italian',\n",
       " 'hip hop': 'hip-hop',\n",
       " 'hiphop': 'hip-hop',\n",
       " 'australian': 'australia',\n",
       " 'australie': 'australia',\n",
       " 'france': 'trance',\n",
       " 'synth-pop': 'synthpop',\n",
       " 'orchestral': 'orchestra',\n",
       " 'popera': 'opera',\n",
       " 'austria': 'austrian',\n",
       " 'dark wave': 'darkwave',\n",
       " 'post rock': 'post-rock',\n",
       " 'argentine': 'argentina',\n",
       " 'post-hardcore': 'post hardcore',\n",
       " 'electropop': 'electro pop'}"
      ]
     },
     "execution_count": 5,
     "metadata": {},
     "output_type": "execute_result"
    }
   ],
   "source": [
    "merge_near_string('tag_mbz')"
   ]
  },
  {
   "cell_type": "code",
   "execution_count": 6,
   "metadata": {
    "pycharm": {
     "is_executing": false
    }
   },
   "outputs": [
    {
     "data": {
      "text/plain": [
       "{'hip pop': 'hip hop',\n",
       " 'electronica': 'electronic',\n",
       " 'freakbeat': 'breakbeat',\n",
       " 'new rave': 'new wave'}"
      ]
     },
     "execution_count": 6,
     "metadata": {},
     "output_type": "execute_result"
    }
   ],
   "source": [
    "merge_near_string('tag_echo')"
   ]
  },
  {
   "cell_type": "code",
   "execution_count": 7,
   "metadata": {
    "pycharm": {
     "is_executing": false
    }
   },
   "outputs": [
    {
     "data": {
      "text/html": [
       "<div>\n",
       "<style scoped>\n",
       "    .dataframe tbody tr th:only-of-type {\n",
       "        vertical-align: middle;\n",
       "    }\n",
       "\n",
       "    .dataframe tbody tr th {\n",
       "        vertical-align: top;\n",
       "    }\n",
       "\n",
       "    .dataframe thead th {\n",
       "        text-align: right;\n",
       "    }\n",
       "</style>\n",
       "<table border=\"1\" class=\"dataframe\">\n",
       "  <thead>\n",
       "    <tr style=\"text-align: right;\">\n",
       "      <th></th>\n",
       "      <th>id</th>\n",
       "      <th>song_name</th>\n",
       "      <th>album_name</th>\n",
       "      <th>artist_name</th>\n",
       "      <th>artist_mb</th>\n",
       "      <th>tag_echo</th>\n",
       "      <th>tag_mbz</th>\n",
       "      <th>year</th>\n",
       "      <th>ids</th>\n",
       "    </tr>\n",
       "  </thead>\n",
       "  <tbody>\n",
       "    <tr>\n",
       "      <th>0</th>\n",
       "      <td>R/R/U/TRRRUFD12903CD7092</td>\n",
       "      <td>Wastelands</td>\n",
       "      <td>Alien 4</td>\n",
       "      <td>Hawkwind</td>\n",
       "      <td>5a28f8c2-31fb-4047-ae57-c5c326989262</td>\n",
       "      <td>space rock</td>\n",
       "      <td>british</td>\n",
       "      <td>1994</td>\n",
       "      <td>TRRRUFD12903CD7092</td>\n",
       "    </tr>\n",
       "    <tr>\n",
       "      <th>1</th>\n",
       "      <td>R/R/U/TRRRUTV12903CEA11B</td>\n",
       "      <td>Runaway</td>\n",
       "      <td>Songs of Del Shannon</td>\n",
       "      <td>Del Shannon</td>\n",
       "      <td>2e885bfb-1f59-49cf-8d51-e743445e1b48</td>\n",
       "      <td>ballad</td>\n",
       "      <td>classic pop and rock</td>\n",
       "      <td>1961</td>\n",
       "      <td>TRRRUTV12903CEA11B</td>\n",
       "    </tr>\n",
       "    <tr>\n",
       "      <th>2</th>\n",
       "      <td>R/R/U/TRRRUJO128E07813E7</td>\n",
       "      <td>Have You Met Miss Jones? (Swing When Version)</td>\n",
       "      <td>Swing When You're Winning</td>\n",
       "      <td>Robbie Williams</td>\n",
       "      <td>db4624cf-0e44-481e-a9dc-2142b833ec2f</td>\n",
       "      <td>british pop</td>\n",
       "      <td>pop</td>\n",
       "      <td>2001</td>\n",
       "      <td>TRRRUJO128E07813E7</td>\n",
       "    </tr>\n",
       "    <tr>\n",
       "      <th>3</th>\n",
       "      <td>R/R/I/TRRRIYO128F428CF6F</td>\n",
       "      <td>Goodbye</td>\n",
       "      <td>Bittersweet</td>\n",
       "      <td>Volebeats</td>\n",
       "      <td>eb567c55-368d-4b85-b969-ca9e3252f9cb</td>\n",
       "      <td>alternative country</td>\n",
       "      <td>?</td>\n",
       "      <td>0</td>\n",
       "      <td>TRRRIYO128F428CF6F</td>\n",
       "    </tr>\n",
       "    <tr>\n",
       "      <th>4</th>\n",
       "      <td>R/R/I/TRRRILO128F422FFED</td>\n",
       "      <td>La Colegiala</td>\n",
       "      <td>Musica Tropical De Colombia 5</td>\n",
       "      <td>Rodolfo Y Su Tipica Ra7</td>\n",
       "      <td>ead8d6d9-e58b-4dd8-916f-cf7f359db38e</td>\n",
       "      <td>cumbia</td>\n",
       "      <td>?</td>\n",
       "      <td>1997</td>\n",
       "      <td>TRRRILO128F422FFED</td>\n",
       "    </tr>\n",
       "  </tbody>\n",
       "</table>\n",
       "</div>"
      ],
      "text/plain": [
       "                         id                                      song_name  \\\n",
       "0  R/R/U/TRRRUFD12903CD7092                                     Wastelands   \n",
       "1  R/R/U/TRRRUTV12903CEA11B                                        Runaway   \n",
       "2  R/R/U/TRRRUJO128E07813E7  Have You Met Miss Jones? (Swing When Version)   \n",
       "3  R/R/I/TRRRIYO128F428CF6F                                        Goodbye   \n",
       "4  R/R/I/TRRRILO128F422FFED                                   La Colegiala   \n",
       "\n",
       "                      album_name              artist_name  \\\n",
       "0                        Alien 4                 Hawkwind   \n",
       "1           Songs of Del Shannon              Del Shannon   \n",
       "2      Swing When You're Winning          Robbie Williams   \n",
       "3                    Bittersweet                Volebeats   \n",
       "4  Musica Tropical De Colombia 5  Rodolfo Y Su Tipica Ra7   \n",
       "\n",
       "                              artist_mb             tag_echo  \\\n",
       "0  5a28f8c2-31fb-4047-ae57-c5c326989262           space rock   \n",
       "1  2e885bfb-1f59-49cf-8d51-e743445e1b48               ballad   \n",
       "2  db4624cf-0e44-481e-a9dc-2142b833ec2f          british pop   \n",
       "3  eb567c55-368d-4b85-b969-ca9e3252f9cb  alternative country   \n",
       "4  ead8d6d9-e58b-4dd8-916f-cf7f359db38e               cumbia   \n",
       "\n",
       "                tag_mbz  year                 ids  \n",
       "0               british  1994  TRRRUFD12903CD7092  \n",
       "1  classic pop and rock  1961  TRRRUTV12903CEA11B  \n",
       "2                   pop  2001  TRRRUJO128E07813E7  \n",
       "3                     ?     0  TRRRIYO128F428CF6F  \n",
       "4                     ?  1997  TRRRILO128F422FFED  "
      ]
     },
     "execution_count": 7,
     "metadata": {},
     "output_type": "execute_result"
    }
   ],
   "source": [
    "itl['ids'] = itl['id'].apply(lambda x: x.split('/')[-1])\n",
    "itl.head()"
   ]
  },
  {
   "cell_type": "code",
   "execution_count": 8,
   "metadata": {
    "pycharm": {
     "is_executing": false
    }
   },
   "outputs": [],
   "source": [
    "ids = itl['ids'].values\n",
    "\n",
    "midi_embedding = KeyedVectors.load_word2vec_format(IN_PATH)\n",
    "uris = list(filter(lambda x: x in ids, midi_embedding.index2entity))\n",
    "\n",
    "vectors = [midi_embedding.get_vector(k) for k in uris]"
   ]
  },
  {
   "cell_type": "code",
   "execution_count": 9,
   "metadata": {
    "pycharm": {
     "is_executing": false
    }
   },
   "outputs": [],
   "source": [
    "# function that returns a property given the id\n",
    "def extract(what, x, t=None):\n",
    "#     print(itl[itl['ids']==x])\n",
    "    item = itl[itl['ids']==x][what].values[0]\n",
    "    if t and type(item) != t:\n",
    "        return '?'\n",
    "    return np.str(item)"
   ]
  },
  {
   "cell_type": "markdown",
   "metadata": {},
   "source": [
    "Clean the data for Tensorflow"
   ]
  },
  {
   "cell_type": "code",
   "execution_count": 10,
   "metadata": {
    "pycharm": {
     "is_executing": false
    }
   },
   "outputs": [],
   "source": [
    "def vec_to_string(vector):\n",
    "    return ' '.join([str(v) for v in vector])"
   ]
  },
  {
   "cell_type": "code",
   "execution_count": 11,
   "metadata": {
    "pycharm": {
     "is_executing": false
    }
   },
   "outputs": [],
   "source": [
    "if not os.path.exists(DATASET_PATH):\n",
    "    os.mkdir(DATASET_PATH)\n",
    "\n",
    "with open('%s/id.txt' % DATASET_PATH, 'w') as f: \n",
    "    f.write('\\n'.join(uris)) \n",
    "\n",
    "with open('%s/vectors.txt' % DATASET_PATH, 'w') as f: \n",
    "    f.write('\\n'.join([vec_to_string(vector) for vector in vectors])) \n",
    "    \n",
    "with open('%s/tag_mbz.txt' % DATASET_PATH, 'w') as f: \n",
    "    f.write('\\n'.join([extract('tag_mbz', uri, t=np.str) for uri in uris])) \n",
    "\n",
    "with open('%s/tag_echo.txt' % DATASET_PATH, 'w') as f: \n",
    "    f.write('\\n'.join([extract('tag_echo', uri, t=np.str) for uri in uris]))\n",
    "    \n",
    "with open('%s/year.txt' % DATASET_PATH, 'w') as f: \n",
    "    f.write('\\n'.join([extract('year', uri) for uri in uris]))"
   ]
  }
 ],
 "metadata": {
  "kernelspec": {
   "display_name": "Python 3",
   "language": "python",
   "name": "python3"
  },
  "language_info": {
   "codemirror_mode": {
    "name": "ipython",
    "version": 3
   },
   "file_extension": ".py",
   "mimetype": "text/x-python",
   "name": "python",
   "nbconvert_exporter": "python",
   "pygments_lexer": "ipython3",
   "version": "3.7.4"
  },
  "pycharm": {
   "stem_cell": {
    "cell_type": "raw",
    "source": [],
    "metadata": {
     "collapsed": false
    }
   }
  }
 },
 "nbformat": 4,
 "nbformat_minor": 1
}
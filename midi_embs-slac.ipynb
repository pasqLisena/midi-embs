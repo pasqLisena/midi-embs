{
 "cells": [
  {
   "cell_type": "code",
   "execution_count": 1,
   "metadata": {},
   "outputs": [],
   "source": [
    "import re\n",
    "import os\n",
    "import codecs\n",
    "import pandas\n",
    "import numpy as np\n",
    "import matplotlib.pyplot as plt\n",
    "from gensim.models import KeyedVectors\n",
    "from sklearn.manifold import TSNE\n",
    "from random import randint"
   ]
  },
  {
   "cell_type": "code",
   "execution_count": 2,
   "metadata": {},
   "outputs": [],
   "source": [
    "# input\n",
    "IN_PATH = 'embeddings/slac.emb'\n",
    "CSV_PATH = 'embeddings/slac.csv'\n",
    "\n",
    "# output\n",
    "IMG_PATH = './img-slac'\n",
    "DATASET_PATH = './dataset-slac'"
   ]
  },
  {
   "cell_type": "code",
   "execution_count": 3,
   "metadata": {},
   "outputs": [
    {
     "data": {
      "text/html": [
       "<div>\n",
       "<style scoped>\n",
       "    .dataframe tbody tr th:only-of-type {\n",
       "        vertical-align: middle;\n",
       "    }\n",
       "\n",
       "    .dataframe tbody tr th {\n",
       "        vertical-align: top;\n",
       "    }\n",
       "\n",
       "    .dataframe thead th {\n",
       "        text-align: right;\n",
       "    }\n",
       "</style>\n",
       "<table border=\"1\" class=\"dataframe\">\n",
       "  <thead>\n",
       "    <tr style=\"text-align: right;\">\n",
       "      <th></th>\n",
       "      <th>id</th>\n",
       "      <th>filename</th>\n",
       "      <th>genre</th>\n",
       "      <th>subgenre</th>\n",
       "      <th>artist</th>\n",
       "      <th>title</th>\n",
       "    </tr>\n",
       "  </thead>\n",
       "  <tbody>\n",
       "    <tr>\n",
       "      <th>0</th>\n",
       "      <td>Blues_-_Modern-Albert_King_-_Born_Under_A_Bad_...</td>\n",
       "      <td>/Users/pasquale/git/midi2vec/SLAC_MIDI_Dataset...</td>\n",
       "      <td>Blues</td>\n",
       "      <td>Modern</td>\n",
       "      <td>Albert King</td>\n",
       "      <td>Born Under A Bad Sign</td>\n",
       "    </tr>\n",
       "    <tr>\n",
       "      <th>1</th>\n",
       "      <td>Blues_-_Modern-B_B_King_-_How_Blue_Can_You_Get</td>\n",
       "      <td>/Users/pasquale/git/midi2vec/SLAC_MIDI_Dataset...</td>\n",
       "      <td>Blues</td>\n",
       "      <td>Modern</td>\n",
       "      <td>B B King</td>\n",
       "      <td>How Blue Can You Get</td>\n",
       "    </tr>\n",
       "    <tr>\n",
       "      <th>2</th>\n",
       "      <td>Blues_-_Modern-B_B_King_-_Rock_Me_Baby</td>\n",
       "      <td>/Users/pasquale/git/midi2vec/SLAC_MIDI_Dataset...</td>\n",
       "      <td>Blues</td>\n",
       "      <td>Modern</td>\n",
       "      <td>B B King</td>\n",
       "      <td>Rock Me Baby</td>\n",
       "    </tr>\n",
       "    <tr>\n",
       "      <th>3</th>\n",
       "      <td>Blues_-_Modern-B_B_King_-_The_Thrill_Is_Gone</td>\n",
       "      <td>/Users/pasquale/git/midi2vec/SLAC_MIDI_Dataset...</td>\n",
       "      <td>Blues</td>\n",
       "      <td>Modern</td>\n",
       "      <td>B B King</td>\n",
       "      <td>The Thrill Is Gone</td>\n",
       "    </tr>\n",
       "    <tr>\n",
       "      <th>4</th>\n",
       "      <td>Blues_-_Modern-Buddy_Guy_-_Don't_Answer_the_Door</td>\n",
       "      <td>/Users/pasquale/git/midi2vec/SLAC_MIDI_Dataset...</td>\n",
       "      <td>Blues</td>\n",
       "      <td>Modern</td>\n",
       "      <td>Buddy Guy</td>\n",
       "      <td>Don't Answer the Door</td>\n",
       "    </tr>\n",
       "  </tbody>\n",
       "</table>\n",
       "</div>"
      ],
      "text/plain": [
       "                                                  id  \\\n",
       "0  Blues_-_Modern-Albert_King_-_Born_Under_A_Bad_...   \n",
       "1     Blues_-_Modern-B_B_King_-_How_Blue_Can_You_Get   \n",
       "2             Blues_-_Modern-B_B_King_-_Rock_Me_Baby   \n",
       "3       Blues_-_Modern-B_B_King_-_The_Thrill_Is_Gone   \n",
       "4   Blues_-_Modern-Buddy_Guy_-_Don't_Answer_the_Door   \n",
       "\n",
       "                                            filename  genre subgenre  \\\n",
       "0  /Users/pasquale/git/midi2vec/SLAC_MIDI_Dataset...  Blues   Modern   \n",
       "1  /Users/pasquale/git/midi2vec/SLAC_MIDI_Dataset...  Blues   Modern   \n",
       "2  /Users/pasquale/git/midi2vec/SLAC_MIDI_Dataset...  Blues   Modern   \n",
       "3  /Users/pasquale/git/midi2vec/SLAC_MIDI_Dataset...  Blues   Modern   \n",
       "4  /Users/pasquale/git/midi2vec/SLAC_MIDI_Dataset...  Blues   Modern   \n",
       "\n",
       "        artist                  title  \n",
       "0  Albert King  Born Under A Bad Sign  \n",
       "1     B B King   How Blue Can You Get  \n",
       "2     B B King           Rock Me Baby  \n",
       "3     B B King     The Thrill Is Gone  \n",
       "4    Buddy Guy  Don't Answer the Door  "
      ]
     },
     "execution_count": 3,
     "metadata": {},
     "output_type": "execute_result"
    }
   ],
   "source": [
    "itl = pandas.read_csv(CSV_PATH)\n",
    "itl.head()"
   ]
  },
  {
   "cell_type": "code",
   "execution_count": 4,
   "metadata": {},
   "outputs": [],
   "source": [
    "ids = itl['id'].values\n",
    "\n",
    "midi_embedding = KeyedVectors.load_word2vec_format(IN_PATH)\n",
    "uris = list(filter(lambda x: x in ids, midi_embedding.index2entity))\n",
    "\n",
    "vectors = [midi_embedding.get_vector(k) for k in uris]"
   ]
  },
  {
   "cell_type": "code",
   "execution_count": 5,
   "metadata": {},
   "outputs": [],
   "source": [
    "# function that returns a property given the id\n",
    "def extract(what, x):\n",
    "    return itl[itl['id']==x][what].values[0]"
   ]
  },
  {
   "cell_type": "markdown",
   "metadata": {},
   "source": [
    "Plot a 2D map of the dataset."
   ]
  },
  {
   "cell_type": "code",
   "execution_count": 6,
   "metadata": {},
   "outputs": [],
   "source": [
    "def randcolor():\n",
    "    return '#{:06x}'.format(randint(0, 256**3))\n",
    "\n",
    "def plot(what='genre', map_color=False):\n",
    "    # find tsne coords for 2 dimensions\n",
    "    tsne = TSNE(n_components=2, random_state=0)\n",
    "    np.set_printoptions(suppress=True)\n",
    "    Y = tsne.fit_transform(vectors)\n",
    "\n",
    "    x_coords = Y[:, 0]\n",
    "    y_coords = Y[:, 1]\n",
    "\n",
    "    # display scatter plot\n",
    "    plt.scatter(x_coords, y_coords, alpha=0)\n",
    "    plt.rcParams.update({'font.size': 1})\n",
    "\n",
    "    curlabels = list(map(lambda x: extract(what, x), uris))\n",
    "\n",
    "    _unique_labels = list(set(curlabels))\n",
    "    _colors = list(map(lambda x: randcolor(), _unique_labels))\n",
    "    \n",
    "    for i, value in enumerate(zip(curlabels, uris, x_coords, y_coords)):\n",
    "        label, uri, x, y = value\n",
    "\n",
    "        c = _colors[_unique_labels.index(label)]\n",
    "        plt.text(x, y, label, color=c)\n",
    "\n",
    "    plt.xlim(x_coords.min() + 0.00005, x_coords.max() + 0.00005)\n",
    "    plt.ylim(y_coords.min() + 0.00005, y_coords.max() + 0.00005)\n",
    "\n",
    "    if not os.path.exists(IMG_PATH):\n",
    "        os.makedirs(IMG_PATH)\n",
    "\n",
    "    out = '%s/%s.eps' % (IMG_PATH, what)\n",
    "    plt.savefig(out, format='eps', dpi=2400)\n",
    "    print('Picture saved at %s' % out)"
   ]
  },
  {
   "cell_type": "code",
   "execution_count": 7,
   "metadata": {},
   "outputs": [
    {
     "name": "stdout",
     "output_type": "stream",
     "text": [
      "Picture saved at ./img-slac/artist.eps\n"
     ]
    },
    {
     "data": {
      "image/png": "[encoded data removed]",
      "text/plain": [
       "<Figure size 432x288 with 1 Axes>"
      ]
     },
     "metadata": {
      "needs_background": "light"
     },
     "output_type": "display_data"
    }
   ],
   "source": [
    "plot(what='artist', map_color=True)"
   ]
  },
  {
   "cell_type": "code",
   "execution_count": 8,
   "metadata": {},
   "outputs": [
    {
     "name": "stdout",
     "output_type": "stream",
     "text": [
      "Picture saved at ./img-slac/genre.eps\n"
     ]
    },
    {
     "data": {
      "image/png": "[encoded data removed]",
      "text/plain": [
       "<Figure size 432x288 with 1 Axes>"
      ]
     },
     "metadata": {
      "needs_background": "light"
     },
     "output_type": "display_data"
    }
   ],
   "source": [
    "plot(what='genre')"
   ]
  },
  {
   "cell_type": "code",
   "execution_count": 9,
   "metadata": {},
   "outputs": [
    {
     "name": "stdout",
     "output_type": "stream",
     "text": [
      "Picture saved at ./img-slac/subgenre.eps\n"
     ]
    },
    {
     "data": {
      "image/png": "[encoded data removed]",
      "text/plain": [
       "<Figure size 432x288 with 1 Axes>"
      ]
     },
     "metadata": {
      "needs_background": "light"
     },
     "output_type": "display_data"
    }
   ],
   "source": [
    "plot(what='subgenre')"
   ]
  },
  {
   "cell_type": "markdown",
   "metadata": {},
   "source": [
    "Clean the data for Tensorflow"
   ]
  },
  {
   "cell_type": "code",
   "execution_count": 10,
   "metadata": {},
   "outputs": [],
   "source": [
    "def vec_to_string(vector):\n",
    "    return ' '.join([str(v) for v in vector])"
   ]
  },
  {
   "cell_type": "code",
   "execution_count": 11,
   "metadata": {},
   "outputs": [],
   "source": [
    "if not os.path.exists(DATASET_PATH):\n",
    "    os.mkdir(DATASET_PATH)\n",
    "\n",
    "with open('%s/id.txt' % DATASET_PATH, 'w') as f: \n",
    "    f.write('\\n'.join(uris)) \n",
    "\n",
    "with open('%s/vectors.txt' % DATASET_PATH, 'w') as f: \n",
    "    f.write('\\n'.join([vec_to_string(vector) for vector in vectors])) \n",
    "    \n",
    "with open('%s/genre.txt' % DATASET_PATH, 'w') as f: \n",
    "    f.write('\\n'.join([extract('genre', uri) for uri in uris])) \n",
    "\n",
    "with open('%s/subgenre.txt' % DATASET_PATH, 'w') as f: \n",
    "    f.write('\\n'.join([extract('subgenre', uri) for uri in uris]))"
   ]
  }
 ],
 "metadata": {
  "kernelspec": {
   "display_name": "Python 3",
   "language": "python",
   "name": "python3"
  },
  "language_info": {
   "codemirror_mode": {
    "name": "ipython",
    "version": 3
   },
   "file_extension": ".py",
   "mimetype": "text/x-python",
   "name": "python",
   "nbconvert_exporter": "python",
   "pygments_lexer": "ipython3",
   "version": "3.7.1"
  }
 },
 "nbformat": 4,
 "nbformat_minor": 1
}

{
 "cells": [
  {
   "cell_type": "code",
   "execution_count": 1,
   "metadata": {
    "pycharm": {
     "is_executing": true
    },
    "scrolled": true
   },
   "outputs": [
    {
     "name": "stderr",
     "output_type": "stream",
     "text": [
      "/usr/local/lib/python3.7/site-packages/tensorflow/python/framework/dtypes.py:516: FutureWarning: Passing (type, 1) or '1type' as a synonym of type is deprecated; in a future version of numpy, it will be understood as (type, (1,)) / '(1,)type'.\n",
      "  _np_qint8 = np.dtype([(\"qint8\", np.int8, 1)])\n",
      "/usr/local/lib/python3.7/site-packages/tensorflow/python/framework/dtypes.py:517: FutureWarning: Passing (type, 1) or '1type' as a synonym of type is deprecated; in a future version of numpy, it will be understood as (type, (1,)) / '(1,)type'.\n",
      "  _np_quint8 = np.dtype([(\"quint8\", np.uint8, 1)])\n",
      "/usr/local/lib/python3.7/site-packages/tensorflow/python/framework/dtypes.py:518: FutureWarning: Passing (type, 1) or '1type' as a synonym of type is deprecated; in a future version of numpy, it will be understood as (type, (1,)) / '(1,)type'.\n",
      "  _np_qint16 = np.dtype([(\"qint16\", np.int16, 1)])\n",
      "/usr/local/lib/python3.7/site-packages/tensorflow/python/framework/dtypes.py:519: FutureWarning: Passing (type, 1) or '1type' as a synonym of type is deprecated; in a future version of numpy, it will be understood as (type, (1,)) / '(1,)type'.\n",
      "  _np_quint16 = np.dtype([(\"quint16\", np.uint16, 1)])\n",
      "/usr/local/lib/python3.7/site-packages/tensorflow/python/framework/dtypes.py:520: FutureWarning: Passing (type, 1) or '1type' as a synonym of type is deprecated; in a future version of numpy, it will be understood as (type, (1,)) / '(1,)type'.\n",
      "  _np_qint32 = np.dtype([(\"qint32\", np.int32, 1)])\n",
      "/usr/local/lib/python3.7/site-packages/tensorflow/python/framework/dtypes.py:525: FutureWarning: Passing (type, 1) or '1type' as a synonym of type is deprecated; in a future version of numpy, it will be understood as (type, (1,)) / '(1,)type'.\n",
      "  np_resource = np.dtype([(\"resource\", np.ubyte, 1)])\n",
      "/usr/local/lib/python3.7/site-packages/tensorboard/compat/tensorflow_stub/dtypes.py:541: FutureWarning: Passing (type, 1) or '1type' as a synonym of type is deprecated; in a future version of numpy, it will be understood as (type, (1,)) / '(1,)type'.\n",
      "  _np_qint8 = np.dtype([(\"qint8\", np.int8, 1)])\n",
      "/usr/local/lib/python3.7/site-packages/tensorboard/compat/tensorflow_stub/dtypes.py:542: FutureWarning: Passing (type, 1) or '1type' as a synonym of type is deprecated; in a future version of numpy, it will be understood as (type, (1,)) / '(1,)type'.\n",
      "  _np_quint8 = np.dtype([(\"quint8\", np.uint8, 1)])\n",
      "/usr/local/lib/python3.7/site-packages/tensorboard/compat/tensorflow_stub/dtypes.py:543: FutureWarning: Passing (type, 1) or '1type' as a synonym of type is deprecated; in a future version of numpy, it will be understood as (type, (1,)) / '(1,)type'.\n",
      "  _np_qint16 = np.dtype([(\"qint16\", np.int16, 1)])\n",
      "/usr/local/lib/python3.7/site-packages/tensorboard/compat/tensorflow_stub/dtypes.py:544: FutureWarning: Passing (type, 1) or '1type' as a synonym of type is deprecated; in a future version of numpy, it will be understood as (type, (1,)) / '(1,)type'.\n",
      "  _np_quint16 = np.dtype([(\"quint16\", np.uint16, 1)])\n",
      "/usr/local/lib/python3.7/site-packages/tensorboard/compat/tensorflow_stub/dtypes.py:545: FutureWarning: Passing (type, 1) or '1type' as a synonym of type is deprecated; in a future version of numpy, it will be understood as (type, (1,)) / '(1,)type'.\n",
      "  _np_qint32 = np.dtype([(\"qint32\", np.int32, 1)])\n",
      "/usr/local/lib/python3.7/site-packages/tensorboard/compat/tensorflow_stub/dtypes.py:550: FutureWarning: Passing (type, 1) or '1type' as a synonym of type is deprecated; in a future version of numpy, it will be understood as (type, (1,)) / '(1,)type'.\n",
      "  np_resource = np.dtype([(\"resource\", np.ubyte, 1)])\n",
      "WARNING: Logging before flag parsing goes to stderr.\n",
      "W0624 11:44:04.426559 4611612096 core.py:196] In /usr/local/lib/python3.7/site-packages/matplotlib/mpl-data/stylelib/_classic_test.mplstyle: \n",
      "The text.latex.unicode rcparam was deprecated in Matplotlib 3.0 and will be removed in 3.2.\n",
      "W0624 11:44:04.427556 4611612096 core.py:196] In /usr/local/lib/python3.7/site-packages/matplotlib/mpl-data/stylelib/_classic_test.mplstyle: \n",
      "The savefig.frameon rcparam was deprecated in Matplotlib 3.1 and will be removed in 3.3.\n",
      "W0624 11:44:04.428210 4611612096 core.py:196] In /usr/local/lib/python3.7/site-packages/matplotlib/mpl-data/stylelib/_classic_test.mplstyle: \n",
      "The pgf.debug rcparam was deprecated in Matplotlib 3.0 and will be removed in 3.2.\n",
      "W0624 11:44:04.429013 4611612096 core.py:196] In /usr/local/lib/python3.7/site-packages/matplotlib/mpl-data/stylelib/_classic_test.mplstyle: \n",
      "The verbose.level rcparam was deprecated in Matplotlib 3.1 and will be removed in 3.3.\n",
      "W0624 11:44:04.429605 4611612096 core.py:196] In /usr/local/lib/python3.7/site-packages/matplotlib/mpl-data/stylelib/_classic_test.mplstyle: \n",
      "The verbose.fileo rcparam was deprecated in Matplotlib 3.1 and will be removed in 3.3.\n"
     ]
    },
    {
     "name": "stdout",
     "output_type": "stream",
     "text": [
      "1.14.0\n",
      "2.2.4-tf\n"
     ]
    }
   ],
   "source": [
    "import numpy as np\n",
    "import pandas as pd\n",
    "from gensim.models import KeyedVectors\n",
    "\n",
    "import tensorflow as tf\n",
    "from tensorflow.keras import layers\n",
    "from tensorflow.keras.wrappers.scikit_learn import KerasClassifier\n",
    "\n",
    "from sklearn.model_selection import cross_val_score, cross_val_predict, cross_validate, KFold\n",
    "\n",
    "from utils import plot_confusion_matrix, OneHotEncoder\n",
    "\n",
    "print(tf.__version__)\n",
    "print(tf.keras.__version__)"
   ]
  },
  {
   "cell_type": "markdown",
   "metadata": {},
   "source": [
    "Loading the data of the [SLAC dataset](http://jmir.sourceforge.net/Codaich.html), with 250 MIDI files. The dataset is equally balanced over the classes.\n",
    "\n",
    "The vectors are computed using [midi2vec](https://github.com/midi-ld/midi2vec).\n",
    "\n",
    "The dataset provides 2 kind of classes (genres and subgenres), respectively of 5 and 10 elements:\n",
    "\n",
    "- Blues\n",
    "    - Modern Blues\n",
    "    - Traditional Blues\n",
    "- Classical\n",
    "    - Baroque\n",
    "    - Romantic\n",
    "- Jazz\n",
    "    - Bop\n",
    "    - Swing\n",
    "- Rap\n",
    "    - Hardcore Rap\n",
    "    - Pop Rap\n",
    "- Rock\n",
    "    - Alternative Rock\n",
    "    - Metal"
   ]
  },
  {
   "cell_type": "code",
   "execution_count": 2,
   "metadata": {},
   "outputs": [
    {
     "data": {
      "text/html": [
       "<div>\n",
       "<style scoped>\n",
       "    .dataframe tbody tr th:only-of-type {\n",
       "        vertical-align: middle;\n",
       "    }\n",
       "\n",
       "    .dataframe tbody tr th {\n",
       "        vertical-align: top;\n",
       "    }\n",
       "\n",
       "    .dataframe thead th {\n",
       "        text-align: right;\n",
       "    }\n",
       "</style>\n",
       "<table border=\"1\" class=\"dataframe\">\n",
       "  <thead>\n",
       "    <tr style=\"text-align: right;\">\n",
       "      <th></th>\n",
       "      <th>id</th>\n",
       "      <th>genre</th>\n",
       "      <th>subgenre</th>\n",
       "      <th>title</th>\n",
       "    </tr>\n",
       "  </thead>\n",
       "  <tbody>\n",
       "    <tr>\n",
       "      <th>0</th>\n",
       "      <td>Blues_-_Modern-Albert_King_-_Born_Under_A_Bad_...</td>\n",
       "      <td>Blues</td>\n",
       "      <td>Modern</td>\n",
       "      <td>Born Under A Bad Sign</td>\n",
       "    </tr>\n",
       "    <tr>\n",
       "      <th>1</th>\n",
       "      <td>Blues_-_Modern-B_B_King_-_How_Blue_Can_You_Get</td>\n",
       "      <td>Blues</td>\n",
       "      <td>Modern</td>\n",
       "      <td>How Blue Can You Get</td>\n",
       "    </tr>\n",
       "    <tr>\n",
       "      <th>2</th>\n",
       "      <td>Blues_-_Modern-B_B_King_-_Rock_Me_Baby</td>\n",
       "      <td>Blues</td>\n",
       "      <td>Modern</td>\n",
       "      <td>Rock Me Baby</td>\n",
       "    </tr>\n",
       "    <tr>\n",
       "      <th>3</th>\n",
       "      <td>Blues_-_Modern-B_B_King_-_The_Thrill_Is_Gone</td>\n",
       "      <td>Blues</td>\n",
       "      <td>Modern</td>\n",
       "      <td>The Thrill Is Gone</td>\n",
       "    </tr>\n",
       "    <tr>\n",
       "      <th>4</th>\n",
       "      <td>Blues_-_Modern-Buddy_Guy_-_Don't_Answer_the_Door</td>\n",
       "      <td>Blues</td>\n",
       "      <td>Modern</td>\n",
       "      <td>Don't Answer the Door</td>\n",
       "    </tr>\n",
       "    <tr>\n",
       "      <th>...</th>\n",
       "      <td>...</td>\n",
       "      <td>...</td>\n",
       "      <td>...</td>\n",
       "      <td>...</td>\n",
       "    </tr>\n",
       "    <tr>\n",
       "      <th>245</th>\n",
       "      <td>Rock_-_Metal-Rage_Against_the_Machine_-_Bulls_...</td>\n",
       "      <td>Rock</td>\n",
       "      <td>Metal</td>\n",
       "      <td>Bulls On Parade</td>\n",
       "    </tr>\n",
       "    <tr>\n",
       "      <th>246</th>\n",
       "      <td>Rock_-_Metal-Rage_Against_the_Machine_-_Gueril...</td>\n",
       "      <td>Rock</td>\n",
       "      <td>Metal</td>\n",
       "      <td>Guerilla Radio</td>\n",
       "    </tr>\n",
       "    <tr>\n",
       "      <th>247</th>\n",
       "      <td>Rock_-_Metal-Rage_Against_the_Machine_-_Killin...</td>\n",
       "      <td>Rock</td>\n",
       "      <td>Metal</td>\n",
       "      <td>Killing In The Name</td>\n",
       "    </tr>\n",
       "    <tr>\n",
       "      <th>248</th>\n",
       "      <td>Rock_-_Metal-Rage_Against_the_Machine_-_Know_Y...</td>\n",
       "      <td>Rock</td>\n",
       "      <td>Metal</td>\n",
       "      <td>Know Your Enemy</td>\n",
       "    </tr>\n",
       "    <tr>\n",
       "      <th>249</th>\n",
       "      <td>Rock_-_Metal-White_Zombie_-_Black_Sunshine</td>\n",
       "      <td>Rock</td>\n",
       "      <td>Metal</td>\n",
       "      <td>Black Sunshine</td>\n",
       "    </tr>\n",
       "  </tbody>\n",
       "</table>\n",
       "<p>250 rows × 4 columns</p>\n",
       "</div>"
      ],
      "text/plain": [
       "                                                    id  genre subgenre  \\\n",
       "0    Blues_-_Modern-Albert_King_-_Born_Under_A_Bad_...  Blues   Modern   \n",
       "1       Blues_-_Modern-B_B_King_-_How_Blue_Can_You_Get  Blues   Modern   \n",
       "2               Blues_-_Modern-B_B_King_-_Rock_Me_Baby  Blues   Modern   \n",
       "3         Blues_-_Modern-B_B_King_-_The_Thrill_Is_Gone  Blues   Modern   \n",
       "4     Blues_-_Modern-Buddy_Guy_-_Don't_Answer_the_Door  Blues   Modern   \n",
       "..                                                 ...    ...      ...   \n",
       "245  Rock_-_Metal-Rage_Against_the_Machine_-_Bulls_...   Rock    Metal   \n",
       "246  Rock_-_Metal-Rage_Against_the_Machine_-_Gueril...   Rock    Metal   \n",
       "247  Rock_-_Metal-Rage_Against_the_Machine_-_Killin...   Rock    Metal   \n",
       "248  Rock_-_Metal-Rage_Against_the_Machine_-_Know_Y...   Rock    Metal   \n",
       "249         Rock_-_Metal-White_Zombie_-_Black_Sunshine   Rock    Metal   \n",
       "\n",
       "                     title  \n",
       "0    Born Under A Bad Sign  \n",
       "1     How Blue Can You Get  \n",
       "2             Rock Me Baby  \n",
       "3       The Thrill Is Gone  \n",
       "4    Don't Answer the Door  \n",
       "..                     ...  \n",
       "245        Bulls On Parade  \n",
       "246         Guerilla Radio  \n",
       "247    Killing In The Name  \n",
       "248        Know Your Enemy  \n",
       "249         Black Sunshine  \n",
       "\n",
       "[250 rows x 4 columns]"
      ]
     },
     "execution_count": 2,
     "metadata": {},
     "output_type": "execute_result"
    }
   ],
   "source": [
    "df = pd.read_csv('./slac/slac.csv', usecols = ['id','genre', 'subgenre', 'title'])\n",
    "df"
   ]
  },
  {
   "cell_type": "markdown",
   "metadata": {},
   "source": [
    "We load the following kind of embeddings:\n",
    "- complete\n",
    "- without notes\n",
    "- without program\n",
    "- without tempo\n",
    "- without time signature\n",
    "- taking into account only the first 300 note groups"
   ]
  },
  {
   "cell_type": "code",
   "execution_count": 3,
   "metadata": {},
   "outputs": [],
   "source": [
    "emb = KeyedVectors.load_word2vec_format('./slac/slac.bin')\n",
    "emb_notes = KeyedVectors.load_word2vec_format('./slac/slac+notes.bin')\n",
    "emb_program = KeyedVectors.load_word2vec_format('./slac/slac+program.bin')\n",
    "emb_tempo = KeyedVectors.load_word2vec_format('./slac/slac+tempo.bin')\n",
    "emb_ts = KeyedVectors.load_word2vec_format('./slac/slac+ts.bin')\n",
    "emb_300 = KeyedVectors.load_word2vec_format('./slac/slac_300.bin')"
   ]
  },
  {
   "cell_type": "code",
   "execution_count": 4,
   "metadata": {},
   "outputs": [],
   "source": [
    "ids = df.id.tolist()\n",
    "data = np.array([emb[i] for i in ids])\n",
    "data_notes = np.array([emb_notes[i] for i in ids])\n",
    "data_program = np.array([emb_program[i] for i in ids])\n",
    "data_tempo = np.array([emb_tempo[i] for i in ids])\n",
    "data_ts = np.array([emb_ts[i] if i in emb_ts else np.zeros(100) for i in ids ])\n",
    "data_300 = np.array([emb_300[i] for i in ids])"
   ]
  },
  {
   "cell_type": "code",
   "execution_count": 5,
   "metadata": {},
   "outputs": [],
   "source": [
    "emb_sets = {\n",
    "    'ALL' : data,\n",
    "    '+N': data_notes,\n",
    "    '+P': data_program,\n",
    "    '+T': data_tempo,\n",
    "    '+TS': data_ts,\n",
    "    '300': data_300\n",
    "}"
   ]
  },
  {
   "cell_type": "markdown",
   "metadata": {},
   "source": [
    "### Experiment 1: Genres "
   ]
  },
  {
   "cell_type": "markdown",
   "metadata": {},
   "source": [
    "The labels are represented with the 1-hot encoding"
   ]
  },
  {
   "cell_type": "code",
   "execution_count": 6,
   "metadata": {},
   "outputs": [
    {
     "data": {
      "text/plain": [
       "'Blues'"
      ]
     },
     "execution_count": 6,
     "metadata": {},
     "output_type": "execute_result"
    }
   ],
   "source": [
    "onehot = OneHotEncoder(df.genre.tolist())\n",
    "\n",
    "onehot.get(onehot.labels[0])"
   ]
  },
  {
   "cell_type": "code",
   "execution_count": 7,
   "metadata": {},
   "outputs": [
    {
     "data": {
      "text/plain": [
       "(250, 100)"
      ]
     },
     "execution_count": 7,
     "metadata": {},
     "output_type": "execute_result"
    }
   ],
   "source": [
    "data.shape"
   ]
  },
  {
   "cell_type": "code",
   "execution_count": 8,
   "metadata": {},
   "outputs": [
    {
     "data": {
      "text/plain": [
       "(250, 5)"
      ]
     },
     "execution_count": 8,
     "metadata": {},
     "output_type": "execute_result"
    }
   ],
   "source": [
    "onehot.labels.shape"
   ]
  },
  {
   "cell_type": "code",
   "execution_count": 9,
   "metadata": {},
   "outputs": [
    {
     "data": {
      "text/plain": [
       "(100, 5)"
      ]
     },
     "execution_count": 9,
     "metadata": {},
     "output_type": "execute_result"
    }
   ],
   "source": [
    "num_input = data.shape[1]\n",
    "num_output = onehot.labels.shape[1]\n",
    "\n",
    "num_input, num_output"
   ]
  },
  {
   "cell_type": "markdown",
   "metadata": {},
   "source": [
    "We use a Neural Network with 3 dense layers, trained with the Adam Optimizer."
   ]
  },
  {
   "cell_type": "code",
   "execution_count": 10,
   "metadata": {},
   "outputs": [],
   "source": [
    "def create_model():\n",
    "    model = tf.keras.Sequential()\n",
    "    \n",
    "    model.add(layers.Dense(100, activation='relu', input_shape=(num_input,)))\n",
    "    model.add(layers.Dense(100, activation='relu'))\n",
    "    model.add(layers.Dense(num_output, activation='sigmoid'))\n",
    "\n",
    "    model.compile(optimizer=tf.train.AdamOptimizer(0.01),\n",
    "                      loss=tf.keras.losses.CategoricalCrossentropy(from_logits=True),\n",
    "                      metrics=[tf.keras.metrics.CategoricalAccuracy(name='accuracy')])\n",
    "\n",
    "    return model"
   ]
  },
  {
   "cell_type": "code",
   "execution_count": 11,
   "metadata": {},
   "outputs": [],
   "source": [
    "neural_network = KerasClassifier(build_fn=create_model, \n",
    "                                 epochs=10, \n",
    "                                 batch_size=50, verbose=0)"
   ]
  },
  {
   "cell_type": "markdown",
   "metadata": {},
   "source": [
    "The network is evaluated with 10-fold cross-validation. The final score is the average of the results."
   ]
  },
  {
   "cell_type": "code",
   "execution_count": 12,
   "metadata": {},
   "outputs": [
    {
     "name": "stderr",
     "output_type": "stream",
     "text": [
      "W0624 11:44:29.668111 4611612096 deprecation.py:506] From /usr/local/lib/python3.7/site-packages/tensorflow/python/ops/init_ops.py:1251: calling VarianceScaling.__init__ (from tensorflow.python.ops.init_ops) with dtype is deprecated and will be removed in a future version.\n",
      "Instructions for updating:\n",
      "Call initializer instance with the dtype argument instead of passing it to the constructor\n"
     ]
    },
    {
     "name": "stdout",
     "output_type": "stream",
     "text": [
      "ALL\n",
      "[0.88       0.88       0.92000002 0.88       0.88       0.95999998\n",
      " 0.83999997 0.88       0.75999999 0.75999999]\n",
      "+N\n",
      "[0.83999997 0.83999997 0.80000001 0.92000002 0.88       0.83999997\n",
      " 0.80000001 0.83999997 0.60000002 0.80000001]\n",
      "+P\n",
      "[0.83999997 0.72000003 0.75999999 0.80000001 0.68000001 0.72000003\n",
      " 0.80000001 0.92000002 0.88       0.83999997]\n",
      "+T\n",
      "[0.28       0.28       0.28       0.12       0.36000001 0.40000001\n",
      " 0.12       0.36000001 0.28       0.23999999]\n",
      "+TS\n",
      "[0.31999999 0.23999999 0.28       0.2        0.16       0.36000001\n",
      " 0.16       0.28       0.2        0.36000001]\n",
      "300\n",
      "[0.92000002 0.72000003 0.83999997 0.75999999 0.83999997 0.95999998\n",
      " 0.72000003 0.72000003 0.68000001 0.75999999]\n"
     ]
    },
    {
     "data": {
      "text/plain": [
       "{'ALL': 0.863999992609024,\n",
       " '+N': 0.8159999966621398,\n",
       " '+P': 0.7960000038146973,\n",
       " '+T': 0.27200000286102294,\n",
       " '+TS': 0.2560000017285347,\n",
       " '300': 0.79200000166893}"
      ]
     },
     "execution_count": 12,
     "metadata": {},
     "output_type": "execute_result"
    }
   ],
   "source": [
    "random_state = 2111\n",
    "scores_5c = {}\n",
    "for name, d in emb_sets.items():\n",
    "    print(name)\n",
    "    scores = cross_val_score(neural_network, d, onehot.labels,\n",
    "                         cv=KFold(10, shuffle=True, random_state=random_state), verbose=0)\n",
    "    print(scores)\n",
    "    scores_5c[name] = np.mean(scores)\n",
    "scores_5c"
   ]
  },
  {
   "cell_type": "code",
   "execution_count": 13,
   "metadata": {},
   "outputs": [],
   "source": [
    "predicted = cross_val_predict(neural_network, data, onehot.labels, \n",
    "                         cv=KFold(10, shuffle=True, random_state=random_state), verbose=0)"
   ]
  },
  {
   "cell_type": "markdown",
   "metadata": {},
   "source": [
    "#### Confusion matrix, without normalization"
   ]
  },
  {
   "cell_type": "code",
   "execution_count": 14,
   "metadata": {
    "scrolled": false
   },
   "outputs": [
    {
     "data": {
      "image/png": "[encoded data removed]",
      "text/plain": [
       "<Figure size 576x576 with 1 Axes>"
      ]
     },
     "metadata": {
      "needs_background": "light"
     },
     "output_type": "display_data"
    }
   ],
   "source": [
    "plot_confusion_matrix(onehot.labels, predicted, classes=df.genre.tolist(), title='genre')"
   ]
  },
  {
   "cell_type": "markdown",
   "metadata": {},
   "source": [
    "#### Normalized confusion matrix"
   ]
  },
  {
   "cell_type": "code",
   "execution_count": 15,
   "metadata": {},
   "outputs": [
    {
     "data": {
      "image/png": "[encoded data removed]",
      "text/plain": [
       "<Figure size 576x576 with 1 Axes>"
      ]
     },
     "metadata": {
      "needs_background": "light"
     },
     "output_type": "display_data"
    }
   ],
   "source": [
    "plot_confusion_matrix(onehot.labels, predicted, classes=df.genre.tolist(), normalize=True, title='genre')"
   ]
  },
  {
   "cell_type": "markdown",
   "metadata": {},
   "source": [
    "### Experiment 2: Subgenres \n",
    "\n",
    "The experiment is the same, but applied to the 10 subgenre classes."
   ]
  },
  {
   "cell_type": "code",
   "execution_count": 16,
   "metadata": {},
   "outputs": [
    {
     "data": {
      "text/plain": [
       "'Modern'"
      ]
     },
     "execution_count": 16,
     "metadata": {},
     "output_type": "execute_result"
    }
   ],
   "source": [
    "onehot = OneHotEncoder(df.subgenre.tolist())\n",
    "    \n",
    "onehot.get(onehot.labels[0])"
   ]
  },
  {
   "cell_type": "code",
   "execution_count": 17,
   "metadata": {
    "scrolled": true
   },
   "outputs": [
    {
     "data": {
      "text/plain": [
       "(100, 10)"
      ]
     },
     "execution_count": 17,
     "metadata": {},
     "output_type": "execute_result"
    }
   ],
   "source": [
    "num_output = onehot.labels.shape[1]\n",
    "\n",
    "num_input, num_output"
   ]
  },
  {
   "cell_type": "code",
   "execution_count": 18,
   "metadata": {},
   "outputs": [],
   "source": [
    "neural_network = KerasClassifier(build_fn=create_model, \n",
    "                                 epochs=100, \n",
    "                                 batch_size=32, verbose=0)"
   ]
  },
  {
   "cell_type": "code",
   "execution_count": 32,
   "metadata": {},
   "outputs": [
    {
     "name": "stdout",
     "output_type": "stream",
     "text": [
      "ALL\n",
      "[0.47999999 0.63999999 0.72000003 0.72000003 0.63999999 0.83999997\n",
      " 0.68000001 0.68000001 0.56       0.56      ]\n",
      "+N\n",
      "[0.60000002 0.56       0.60000002 0.88       0.68000001 0.60000002\n",
      " 0.63999999 0.51999998 0.56       0.68000001]\n",
      "+P\n",
      "[0.60000002 0.60000002 0.47999999 0.51999998 0.47999999 0.56\n",
      " 0.60000002 0.47999999 0.44       0.63999999]\n",
      "+T\n",
      "[0.12       0.2        0.28       0.08       0.16       0.23999999\n",
      " 0.2        0.04       0.16       0.12      ]\n",
      "+TS\n",
      "[0.16       0.16       0.08       0.16       0.16       0.23999999\n",
      " 0.04       0.2        0.08       0.12      ]\n",
      "300\n",
      "[0.72000003 0.51999998 0.56       0.51999998 0.60000002 0.63999999\n",
      " 0.51999998 0.51999998 0.44       0.56      ]\n"
     ]
    },
    {
     "data": {
      "text/plain": [
       "{'ALL': 0.6520000010728836,\n",
       " '+N': 0.6320000052452087,\n",
       " '+P': 0.5400000005960465,\n",
       " '+T': 0.1599999986588955,\n",
       " '+TS': 0.13999999761581422,\n",
       " '300': 0.5599999964237213}"
      ]
     },
     "execution_count": 32,
     "metadata": {},
     "output_type": "execute_result"
    }
   ],
   "source": [
    "random_state = 2111\n",
    "scores_10c = {}\n",
    "for name, d in emb_sets.items():\n",
    "    print(name)\n",
    "    scores = cross_val_score(neural_network, d, onehot.labels, \n",
    "                         cv=KFold(10, shuffle=True, random_state=random_state), verbose=0)\n",
    "    print(scores)\n",
    "    scores_10c[name] = np.mean(scores)\n",
    "scores_10c"
   ]
  },
  {
   "cell_type": "code",
   "execution_count": null,
   "metadata": {},
   "outputs": [],
   "source": [
    "predicted = cross_val_predict(neural_network, data, onehot.labels, \n",
    "                         cv=KFold(10, shuffle=True, random_state=random_state), verbose=0)"
   ]
  },
  {
   "cell_type": "markdown",
   "metadata": {},
   "source": [
    "#### Confusion matrix, without normalization"
   ]
  },
  {
   "cell_type": "code",
   "execution_count": null,
   "metadata": {},
   "outputs": [],
   "source": [
    "plot_confusion_matrix(onehot.labels, predicted, classes=df.subgenre.tolist(), title=\"subgenre\")"
   ]
  },
  {
   "cell_type": "markdown",
   "metadata": {},
   "source": [
    "#### Normalized confusion matrix"
   ]
  },
  {
   "cell_type": "code",
   "execution_count": null,
   "metadata": {},
   "outputs": [],
   "source": [
    "plot_confusion_matrix(onehot.labels, predicted, classes=df.subgenre.tolist(), normalize=True, title=\"subgenre\")"
   ]
  },
  {
   "cell_type": "markdown",
   "metadata": {},
   "source": [
    "Export the results for publication"
   ]
  },
  {
   "cell_type": "code",
   "execution_count": null,
   "metadata": {},
   "outputs": [],
   "source": [
    "res = pd.DataFrame.from_dict(scores_5c.items())\n",
    "res.columns=['Approach', '5 classes']\n",
    "res['10 classes'] = scores_10c.values()\n",
    "res"
   ]
  },
  {
   "cell_type": "code",
   "execution_count": null,
   "metadata": {},
   "outputs": [],
   "source": [
    "res.to_latex('output/slac.classification.latex',index=False)"
   ]
  },
  {
   "cell_type": "markdown",
   "metadata": {},
   "source": [
    "# 2D Visualisation with TSNE"
   ]
  },
  {
   "cell_type": "code",
   "execution_count": null,
   "metadata": {},
   "outputs": [],
   "source": [
    "from utils import plot\n",
    "plot(data, labels=df.genre.tolist(), output='./img/tsne-slac-genre.pdf')"
   ]
  },
  {
   "cell_type": "code",
   "execution_count": null,
   "metadata": {
    "scrolled": true
   },
   "outputs": [],
   "source": [
    "plot(data, labels=df.subgenre.tolist(), output='./img/tsne-slac-subgenre.pdf')"
   ]
  },
  {
   "cell_type": "code",
   "execution_count": null,
   "metadata": {},
   "outputs": [],
   "source": []
  }
 ],
 "metadata": {
  "kernelspec": {
   "display_name": "Python 3",
   "language": "python",
   "name": "python3"
  },
  "language_info": {
   "codemirror_mode": {
    "name": "ipython",
    "version": 3
   },
   "file_extension": ".py",
   "mimetype": "text/x-python",
   "name": "python",
   "nbconvert_exporter": "python",
   "pygments_lexer": "ipython3",
   "version": "3.7.7"
  }
 },
 "nbformat": 4,
 "nbformat_minor": 2
}
